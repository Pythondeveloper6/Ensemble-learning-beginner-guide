{
 "cells": [
  {
   "cell_type": "code",
   "execution_count": 1,
   "id": "e73de760",
   "metadata": {
    "_cell_guid": "b1076dfc-b9ad-4769-8c92-a6c4dae69d19",
    "_uuid": "8f2839f25d086af736a60e9eeb907d3b93b6e0e5",
    "execution": {
     "iopub.execute_input": "2023-07-16T18:02:09.074867Z",
     "iopub.status.busy": "2023-07-16T18:02:09.074563Z",
     "iopub.status.idle": "2023-07-16T18:02:09.231899Z",
     "shell.execute_reply": "2023-07-16T18:02:09.231218Z"
    },
    "papermill": {
     "duration": 0.167315,
     "end_time": "2023-07-16T18:02:09.234439",
     "exception": false,
     "start_time": "2023-07-16T18:02:09.067124",
     "status": "completed"
    },
    "tags": []
   },
   "outputs": [
    {
     "name": "stdout",
     "output_type": "stream",
     "text": [
      "/kaggle/input/white-wine-quality/Project Outline.ipynb\n",
      "/kaggle/input/white-wine-quality/Flipkart Headphones.csv\n",
      "/kaggle/input/white-wine-quality/Titanic.html\n",
      "/kaggle/input/white-wine-quality/Servo Mechanism.csv\n",
      "/kaggle/input/white-wine-quality/NSE Gold CPI .xlsx\n",
      "/kaggle/input/white-wine-quality/IP.csv\n",
      "/kaggle/input/white-wine-quality/Loan Eligibility Prediction.csv\n",
      "/kaggle/input/white-wine-quality/Brain Networks.csv\n",
      "/kaggle/input/white-wine-quality/Hill Valley Dataset.csv\n",
      "/kaggle/input/white-wine-quality/Gapminder.csv\n",
      "/kaggle/input/white-wine-quality/TelcomCustomerChurn.csv\n",
      "/kaggle/input/white-wine-quality/Bike Prices.csv\n",
      "/kaggle/input/white-wine-quality/Planets.csv\n",
      "/kaggle/input/white-wine-quality/Attention.csv\n",
      "/kaggle/input/white-wine-quality/Upload Text.txt\n",
      "/kaggle/input/white-wine-quality/Gammas.csv\n",
      "/kaggle/input/white-wine-quality/Penguins.csv\n",
      "/kaggle/input/white-wine-quality/Anagrams.csv\n",
      "/kaggle/input/white-wine-quality/Stars.csv\n",
      "/kaggle/input/white-wine-quality/Gapminder_IRIS.xlsx\n",
      "/kaggle/input/white-wine-quality/Airline Delay.csv\n",
      "/kaggle/input/white-wine-quality/MovieLens.csv\n",
      "/kaggle/input/white-wine-quality/MovieLens Genres.csv\n",
      "/kaggle/input/white-wine-quality/Big Sales Data.csv\n",
      "/kaggle/input/white-wine-quality/Car Evaluation.csv\n",
      "/kaggle/input/white-wine-quality/Bike Sharing Original Data.csv\n",
      "/kaggle/input/white-wine-quality/Anscombe.csv\n",
      "/kaggle/input/white-wine-quality/Online Purchase.csv\n",
      "/kaggle/input/white-wine-quality/Upload CSV.csv\n",
      "/kaggle/input/white-wine-quality/Economy of Scale.csv\n",
      "/kaggle/input/white-wine-quality/opencv-haar-classifier.xml\n",
      "/kaggle/input/white-wine-quality/README.md\n",
      "/kaggle/input/white-wine-quality/Exercise.csv\n",
      "/kaggle/input/white-wine-quality/Tshirt Dataset.csv\n",
      "/kaggle/input/white-wine-quality/Customer Purchase.csv\n",
      "/kaggle/input/white-wine-quality/Admission Chance.csv\n",
      "/kaggle/input/white-wine-quality/Titanic.csv\n",
      "/kaggle/input/white-wine-quality/Movies Recommendation.csv\n",
      "/kaggle/input/white-wine-quality/Car Crashes.csv\n",
      "/kaggle/input/white-wine-quality/MPG.csv\n",
      "/kaggle/input/white-wine-quality/Tips Payment Data.csv\n",
      "/kaggle/input/white-wine-quality/Customer Segmentation.csv\n",
      "/kaggle/input/white-wine-quality/Boston.csv\n",
      "/kaggle/input/white-wine-quality/Bank Churn Modelling.csv\n",
      "/kaggle/input/white-wine-quality/Cancer.csv\n",
      "/kaggle/input/white-wine-quality/Financial Market News.csv\n",
      "/kaggle/input/white-wine-quality/House Prices.csv\n",
      "/kaggle/input/white-wine-quality/Titanic.txt\n",
      "/kaggle/input/white-wine-quality/Students Performance.csv\n",
      "/kaggle/input/white-wine-quality/MovieLens 100k.data\n",
      "/kaggle/input/white-wine-quality/Bike Sharing.csv\n",
      "/kaggle/input/white-wine-quality/MultipleDiseasePrediction.csv\n",
      "/kaggle/input/white-wine-quality/Fruits.csv\n",
      "/kaggle/input/white-wine-quality/FMRI.csv\n",
      "/kaggle/input/white-wine-quality/EmployeeAttrition.csv\n",
      "/kaggle/input/white-wine-quality/Car Selling Price.csv\n",
      "/kaggle/input/white-wine-quality/MobilePriceRange.csv\n",
      "/kaggle/input/white-wine-quality/WhiteWineQuality.csv\n",
      "/kaggle/input/white-wine-quality/LEI.csv\n",
      "/kaggle/input/white-wine-quality/Concrete Compressive Strength.csv\n",
      "/kaggle/input/white-wine-quality/Pokemon.csv\n",
      "/kaggle/input/white-wine-quality/HousePriceLargeDataSet.csv\n",
      "/kaggle/input/white-wine-quality/MBASalary.csv\n",
      "/kaggle/input/white-wine-quality/Customer Spending Score.csv\n",
      "/kaggle/input/white-wine-quality/Mammographic Masses.csv\n",
      "/kaggle/input/white-wine-quality/Geyser.csv\n",
      "/kaggle/input/white-wine-quality/Car Price.csv\n",
      "/kaggle/input/white-wine-quality/Placement.csv\n",
      "/kaggle/input/white-wine-quality/Google_Stock_Price_Test.csv\n",
      "/kaggle/input/white-wine-quality/AdultIncome.csv\n",
      "/kaggle/input/white-wine-quality/Dots.csv\n",
      "/kaggle/input/white-wine-quality/New Car Sales by Make.csv\n",
      "/kaggle/input/white-wine-quality/GDP.csv\n",
      "/kaggle/input/white-wine-quality/PastHires.csv\n",
      "/kaggle/input/white-wine-quality/YouTube Spam.csv\n",
      "/kaggle/input/white-wine-quality/News.csv\n",
      "/kaggle/input/white-wine-quality/Tips.csv\n",
      "/kaggle/input/white-wine-quality/IRIS.csv\n",
      "/kaggle/input/white-wine-quality/Flights.csv\n",
      "/kaggle/input/white-wine-quality/Google_Stock_Price_Train.csv\n",
      "/kaggle/input/white-wine-quality/Diabetes Missing Data.csv\n",
      "/kaggle/input/white-wine-quality/Diamonds.csv\n",
      "/kaggle/input/white-wine-quality/Ice Cream.csv\n",
      "/kaggle/input/white-wine-quality/Wine.csv\n",
      "/kaggle/input/white-wine-quality/Francis Galton Regression Data.txt\n",
      "/kaggle/input/white-wine-quality/Upload Excel.xlsx\n",
      "/kaggle/input/white-wine-quality/NBA.csv\n",
      "/kaggle/input/white-wine-quality/StudentLikesDislikes.csv\n",
      "/kaggle/input/white-wine-quality/Car Sales Missing Data.csv\n",
      "/kaggle/input/white-wine-quality/Air Quality Missing Data.csv\n",
      "/kaggle/input/white-wine-quality/Car Depriciation.csv\n",
      "/kaggle/input/white-wine-quality/Insurance Premium.csv\n",
      "/kaggle/input/white-wine-quality/RedWineQuality.csv\n",
      "/kaggle/input/white-wine-quality/Titanic Semicolon.csv\n",
      "/kaggle/input/white-wine-quality/Credit Default.csv\n",
      "/kaggle/input/white-wine-quality/Never Trust Summary Statistics.tsv\n",
      "/kaggle/input/white-wine-quality/Titanic.json\n",
      "/kaggle/input/white-wine-quality/Melbourne Housing Market.csv\n",
      "/kaggle/input/white-wine-quality/Default Dummy Data.csv\n",
      "/kaggle/input/white-wine-quality/FuelEfficiency.csv\n",
      "/kaggle/input/white-wine-quality/Salary Data.csv\n",
      "/kaggle/input/white-wine-quality/Sonar Mine Rock Data.csv\n",
      "/kaggle/input/white-wine-quality/Titanic.xlsx\n",
      "/kaggle/input/white-wine-quality/Spam Email.csv\n",
      "/kaggle/input/white-wine-quality/Fish.csv\n",
      "/kaggle/input/white-wine-quality/Diabetes.csv\n",
      "/kaggle/input/white-wine-quality/Smiles/Smiles/Test Data/sad_test.png\n",
      "/kaggle/input/white-wine-quality/Smiles/Smiles/Test Data/happy_test.png\n",
      "/kaggle/input/white-wine-quality/Smiles/Smiles/Training Data/happy_3.png\n",
      "/kaggle/input/white-wine-quality/Smiles/Smiles/Training Data/sad_8.png\n",
      "/kaggle/input/white-wine-quality/Smiles/Smiles/Training Data/sad_7.png\n",
      "/kaggle/input/white-wine-quality/Smiles/Smiles/Training Data/happy_0.png\n",
      "/kaggle/input/white-wine-quality/Smiles/Smiles/Training Data/sad_3.png\n",
      "/kaggle/input/white-wine-quality/Smiles/Smiles/Training Data/happy_5.png\n",
      "/kaggle/input/white-wine-quality/Smiles/Smiles/Training Data/happy_2.png\n",
      "/kaggle/input/white-wine-quality/Smiles/Smiles/Training Data/happy_9.png\n",
      "/kaggle/input/white-wine-quality/Smiles/Smiles/Training Data/sad_4.png\n",
      "/kaggle/input/white-wine-quality/Smiles/Smiles/Training Data/sad_2.png\n",
      "/kaggle/input/white-wine-quality/Smiles/Smiles/Training Data/happy_6.png\n",
      "/kaggle/input/white-wine-quality/Smiles/Smiles/Training Data/happy_4.png\n",
      "/kaggle/input/white-wine-quality/Smiles/Smiles/Training Data/sad_1.png\n",
      "/kaggle/input/white-wine-quality/Smiles/Smiles/Training Data/happy_1.png\n",
      "/kaggle/input/white-wine-quality/Smiles/Smiles/Training Data/happy_8.png\n",
      "/kaggle/input/white-wine-quality/Smiles/Smiles/Training Data/sad_9.png\n",
      "/kaggle/input/white-wine-quality/Smiles/Smiles/Training Data/happy_7.png\n",
      "/kaggle/input/white-wine-quality/Smiles/Smiles/Training Data/sad_6.png\n",
      "/kaggle/input/white-wine-quality/Smiles/Smiles/Training Data/sad_0.png\n",
      "/kaggle/input/white-wine-quality/Smiles/Smiles/Training Data/sad_5.png\n"
     ]
    }
   ],
   "source": [
    "# This Python 3 environment comes with many helpful analytics libraries installed\n",
    "# It is defined by the kaggle/python Docker image: https://github.com/kaggle/docker-python\n",
    "# For example, here's several helpful packages to load\n",
    "\n",
    "import numpy as np # linear algebra\n",
    "import pandas as pd # data processing, CSV file I/O (e.g. pd.read_csv)\n",
    "\n",
    "# Input data files are available in the read-only \"../input/\" directory\n",
    "# For example, running this (by clicking run or pressing Shift+Enter) will list all files under the input directory\n",
    "\n",
    "import os\n",
    "for dirname, _, filenames in os.walk('/kaggle/input'):\n",
    "    for filename in filenames:\n",
    "        print(os.path.join(dirname, filename))\n",
    "\n",
    "# You can write up to 20GB to the current directory (/kaggle/working/) that gets preserved as output when you create a version using \"Save & Run All\" \n",
    "# You can also write temporary files to /kaggle/temp/, but they won't be saved outside of the current session"
   ]
  },
  {
   "cell_type": "code",
   "execution_count": 2,
   "id": "79751460",
   "metadata": {
    "execution": {
     "iopub.execute_input": "2023-07-16T18:02:09.248006Z",
     "iopub.status.busy": "2023-07-16T18:02:09.247624Z",
     "iopub.status.idle": "2023-07-16T18:02:10.767155Z",
     "shell.execute_reply": "2023-07-16T18:02:10.766214Z"
    },
    "papermill": {
     "duration": 1.528552,
     "end_time": "2023-07-16T18:02:10.769337",
     "exception": false,
     "start_time": "2023-07-16T18:02:09.240785",
     "status": "completed"
    },
    "tags": []
   },
   "outputs": [
    {
     "name": "stderr",
     "output_type": "stream",
     "text": [
      "/opt/conda/lib/python3.10/site-packages/scipy/__init__.py:146: UserWarning: A NumPy version >=1.16.5 and <1.23.0 is required for this version of SciPy (detected version 1.23.5\n",
      "  warnings.warn(f\"A NumPy version >={np_minversion} and <{np_maxversion}\"\n"
     ]
    }
   ],
   "source": [
    "import numpy as np\n",
    "import pandas as pd\n",
    "import matplotlib.pyplot as plt\n",
    "import seaborn as sns\n",
    "\n",
    "from sklearn.model_selection import train_test_split\n",
    "from sklearn.neighbors import KNeighborsClassifier\n",
    "from sklearn.linear_model import LogisticRegression\n",
    "from sklearn.tree import DecisionTreeClassifier\n",
    "from sklearn.svm import SVC\n",
    "from sklearn.ensemble import RandomForestClassifier\n",
    "from sklearn.ensemble import BaggingClassifier , ExtraTreesClassifier, VotingClassifier ,StackingClassifier , AdaBoostClassifier\n",
    "from sklearn.metrics import accuracy_score"
   ]
  },
  {
   "cell_type": "markdown",
   "id": "a28e5125",
   "metadata": {
    "papermill": {
     "duration": 0.006513,
     "end_time": "2023-07-16T18:02:10.782143",
     "exception": false,
     "start_time": "2023-07-16T18:02:10.775630",
     "status": "completed"
    },
    "tags": []
   },
   "source": [
    "### Read Dataset File"
   ]
  },
  {
   "cell_type": "code",
   "execution_count": 3,
   "id": "ab0ebdd1",
   "metadata": {
    "execution": {
     "iopub.execute_input": "2023-07-16T18:02:10.795679Z",
     "iopub.status.busy": "2023-07-16T18:02:10.795380Z",
     "iopub.status.idle": "2023-07-16T18:02:10.810047Z",
     "shell.execute_reply": "2023-07-16T18:02:10.809253Z"
    },
    "papermill": {
     "duration": 0.023537,
     "end_time": "2023-07-16T18:02:10.811951",
     "exception": false,
     "start_time": "2023-07-16T18:02:10.788414",
     "status": "completed"
    },
    "tags": []
   },
   "outputs": [],
   "source": [
    "df=pd.read_csv('/kaggle/input/white-wine-quality/Tshirt Dataset.csv')"
   ]
  },
  {
   "cell_type": "code",
   "execution_count": 4,
   "id": "2c0ffa70",
   "metadata": {
    "execution": {
     "iopub.execute_input": "2023-07-16T18:02:10.825536Z",
     "iopub.status.busy": "2023-07-16T18:02:10.824967Z",
     "iopub.status.idle": "2023-07-16T18:02:10.838137Z",
     "shell.execute_reply": "2023-07-16T18:02:10.837576Z"
    },
    "papermill": {
     "duration": 0.021317,
     "end_time": "2023-07-16T18:02:10.839645",
     "exception": false,
     "start_time": "2023-07-16T18:02:10.818328",
     "status": "completed"
    },
    "tags": []
   },
   "outputs": [
    {
     "data": {
      "text/html": [
       "<div>\n",
       "<style scoped>\n",
       "    .dataframe tbody tr th:only-of-type {\n",
       "        vertical-align: middle;\n",
       "    }\n",
       "\n",
       "    .dataframe tbody tr th {\n",
       "        vertical-align: top;\n",
       "    }\n",
       "\n",
       "    .dataframe thead th {\n",
       "        text-align: right;\n",
       "    }\n",
       "</style>\n",
       "<table border=\"1\" class=\"dataframe\">\n",
       "  <thead>\n",
       "    <tr style=\"text-align: right;\">\n",
       "      <th></th>\n",
       "      <th>Height (in cms)</th>\n",
       "      <th>Weight (in kgs)</th>\n",
       "      <th>T Shirt Size</th>\n",
       "    </tr>\n",
       "  </thead>\n",
       "  <tbody>\n",
       "    <tr>\n",
       "      <th>0</th>\n",
       "      <td>158</td>\n",
       "      <td>58</td>\n",
       "      <td>S</td>\n",
       "    </tr>\n",
       "    <tr>\n",
       "      <th>1</th>\n",
       "      <td>158</td>\n",
       "      <td>59</td>\n",
       "      <td>S</td>\n",
       "    </tr>\n",
       "    <tr>\n",
       "      <th>2</th>\n",
       "      <td>158</td>\n",
       "      <td>63</td>\n",
       "      <td>S</td>\n",
       "    </tr>\n",
       "    <tr>\n",
       "      <th>3</th>\n",
       "      <td>160</td>\n",
       "      <td>59</td>\n",
       "      <td>S</td>\n",
       "    </tr>\n",
       "    <tr>\n",
       "      <th>4</th>\n",
       "      <td>160</td>\n",
       "      <td>60</td>\n",
       "      <td>S</td>\n",
       "    </tr>\n",
       "  </tbody>\n",
       "</table>\n",
       "</div>"
      ],
      "text/plain": [
       "   Height (in cms)  Weight (in kgs) T Shirt Size\n",
       "0              158               58            S\n",
       "1              158               59            S\n",
       "2              158               63            S\n",
       "3              160               59            S\n",
       "4              160               60            S"
      ]
     },
     "execution_count": 4,
     "metadata": {},
     "output_type": "execute_result"
    }
   ],
   "source": [
    "df.head()"
   ]
  },
  {
   "cell_type": "code",
   "execution_count": 5,
   "id": "cbe9cdf5",
   "metadata": {
    "execution": {
     "iopub.execute_input": "2023-07-16T18:02:10.854038Z",
     "iopub.status.busy": "2023-07-16T18:02:10.853639Z",
     "iopub.status.idle": "2023-07-16T18:02:10.858669Z",
     "shell.execute_reply": "2023-07-16T18:02:10.857302Z"
    },
    "papermill": {
     "duration": 0.0136,
     "end_time": "2023-07-16T18:02:10.860390",
     "exception": false,
     "start_time": "2023-07-16T18:02:10.846790",
     "status": "completed"
    },
    "tags": []
   },
   "outputs": [
    {
     "data": {
      "text/plain": [
       "(18, 3)"
      ]
     },
     "execution_count": 5,
     "metadata": {},
     "output_type": "execute_result"
    }
   ],
   "source": [
    "df.shape"
   ]
  },
  {
   "cell_type": "markdown",
   "id": "dddb77db",
   "metadata": {
    "papermill": {
     "duration": 0.005805,
     "end_time": "2023-07-16T18:02:10.872321",
     "exception": false,
     "start_time": "2023-07-16T18:02:10.866516",
     "status": "completed"
    },
    "tags": []
   },
   "source": [
    "-------\n",
    "### Ensemble Learning \n",
    "- it is a technique used to combine the decisions from multiple models to improve the overall performance\n",
    "- using ensemble learning we can combine many models in various ways \n",
    "- predictions from multiple models are merged to enhance the accuracy and resilience of the ultimate forecast\n",
    "- like Randomforest Algorithm it uses enamble learning to combine many decision tree \n",
    "- between the combined models we use :\n",
    "    - Voting : for classification problems \n",
    "    - verage : for regression problems \n",
    "- techniques :\n",
    "    - Voting \n",
    "    - Stacking\n",
    "    - Boosting \n",
    "    - Bagging "
   ]
  },
  {
   "cell_type": "markdown",
   "id": "5318a1f8",
   "metadata": {
    "papermill": {
     "duration": 0.005802,
     "end_time": "2023-07-16T18:02:10.884279",
     "exception": false,
     "start_time": "2023-07-16T18:02:10.878477",
     "status": "completed"
    },
    "tags": []
   },
   "source": [
    "### let's get x , y"
   ]
  },
  {
   "cell_type": "code",
   "execution_count": 6,
   "id": "a939a547",
   "metadata": {
    "execution": {
     "iopub.execute_input": "2023-07-16T18:02:10.897755Z",
     "iopub.status.busy": "2023-07-16T18:02:10.897416Z",
     "iopub.status.idle": "2023-07-16T18:02:10.904768Z",
     "shell.execute_reply": "2023-07-16T18:02:10.903893Z"
    },
    "papermill": {
     "duration": 0.016135,
     "end_time": "2023-07-16T18:02:10.906514",
     "exception": false,
     "start_time": "2023-07-16T18:02:10.890379",
     "status": "completed"
    },
    "tags": []
   },
   "outputs": [],
   "source": [
    "x = df.iloc[: , 0:2].values\n",
    "y = df.iloc[:,2].values"
   ]
  },
  {
   "cell_type": "markdown",
   "id": "acf28629",
   "metadata": {
    "papermill": {
     "duration": 0.006085,
     "end_time": "2023-07-16T18:02:10.918880",
     "exception": false,
     "start_time": "2023-07-16T18:02:10.912795",
     "status": "completed"
    },
    "tags": []
   },
   "source": [
    "### Split the data"
   ]
  },
  {
   "cell_type": "code",
   "execution_count": 7,
   "id": "f384bb0c",
   "metadata": {
    "execution": {
     "iopub.execute_input": "2023-07-16T18:02:10.932303Z",
     "iopub.status.busy": "2023-07-16T18:02:10.931879Z",
     "iopub.status.idle": "2023-07-16T18:02:10.937212Z",
     "shell.execute_reply": "2023-07-16T18:02:10.936656Z"
    },
    "papermill": {
     "duration": 0.01396,
     "end_time": "2023-07-16T18:02:10.938818",
     "exception": false,
     "start_time": "2023-07-16T18:02:10.924858",
     "status": "completed"
    },
    "tags": []
   },
   "outputs": [],
   "source": [
    "X_train , X_test , y_train , y_test = train_test_split(x,y,test_size=.20)"
   ]
  },
  {
   "cell_type": "markdown",
   "id": "981ef62c",
   "metadata": {
    "papermill": {
     "duration": 0.005794,
     "end_time": "2023-07-16T18:02:10.950765",
     "exception": false,
     "start_time": "2023-07-16T18:02:10.944971",
     "status": "completed"
    },
    "tags": []
   },
   "source": [
    "### Build a normal classification nmodel "
   ]
  },
  {
   "cell_type": "code",
   "execution_count": 8,
   "id": "e33bff76",
   "metadata": {
    "execution": {
     "iopub.execute_input": "2023-07-16T18:02:10.963873Z",
     "iopub.status.busy": "2023-07-16T18:02:10.963489Z",
     "iopub.status.idle": "2023-07-16T18:02:10.973954Z",
     "shell.execute_reply": "2023-07-16T18:02:10.973421Z"
    },
    "papermill": {
     "duration": 0.018654,
     "end_time": "2023-07-16T18:02:10.975378",
     "exception": false,
     "start_time": "2023-07-16T18:02:10.956724",
     "status": "completed"
    },
    "tags": []
   },
   "outputs": [
    {
     "data": {
      "text/html": [
       "<style>#sk-container-id-1 {color: black;background-color: white;}#sk-container-id-1 pre{padding: 0;}#sk-container-id-1 div.sk-toggleable {background-color: white;}#sk-container-id-1 label.sk-toggleable__label {cursor: pointer;display: block;width: 100%;margin-bottom: 0;padding: 0.3em;box-sizing: border-box;text-align: center;}#sk-container-id-1 label.sk-toggleable__label-arrow:before {content: \"▸\";float: left;margin-right: 0.25em;color: #696969;}#sk-container-id-1 label.sk-toggleable__label-arrow:hover:before {color: black;}#sk-container-id-1 div.sk-estimator:hover label.sk-toggleable__label-arrow:before {color: black;}#sk-container-id-1 div.sk-toggleable__content {max-height: 0;max-width: 0;overflow: hidden;text-align: left;background-color: #f0f8ff;}#sk-container-id-1 div.sk-toggleable__content pre {margin: 0.2em;color: black;border-radius: 0.25em;background-color: #f0f8ff;}#sk-container-id-1 input.sk-toggleable__control:checked~div.sk-toggleable__content {max-height: 200px;max-width: 100%;overflow: auto;}#sk-container-id-1 input.sk-toggleable__control:checked~label.sk-toggleable__label-arrow:before {content: \"▾\";}#sk-container-id-1 div.sk-estimator input.sk-toggleable__control:checked~label.sk-toggleable__label {background-color: #d4ebff;}#sk-container-id-1 div.sk-label input.sk-toggleable__control:checked~label.sk-toggleable__label {background-color: #d4ebff;}#sk-container-id-1 input.sk-hidden--visually {border: 0;clip: rect(1px 1px 1px 1px);clip: rect(1px, 1px, 1px, 1px);height: 1px;margin: -1px;overflow: hidden;padding: 0;position: absolute;width: 1px;}#sk-container-id-1 div.sk-estimator {font-family: monospace;background-color: #f0f8ff;border: 1px dotted black;border-radius: 0.25em;box-sizing: border-box;margin-bottom: 0.5em;}#sk-container-id-1 div.sk-estimator:hover {background-color: #d4ebff;}#sk-container-id-1 div.sk-parallel-item::after {content: \"\";width: 100%;border-bottom: 1px solid gray;flex-grow: 1;}#sk-container-id-1 div.sk-label:hover label.sk-toggleable__label {background-color: #d4ebff;}#sk-container-id-1 div.sk-serial::before {content: \"\";position: absolute;border-left: 1px solid gray;box-sizing: border-box;top: 0;bottom: 0;left: 50%;z-index: 0;}#sk-container-id-1 div.sk-serial {display: flex;flex-direction: column;align-items: center;background-color: white;padding-right: 0.2em;padding-left: 0.2em;position: relative;}#sk-container-id-1 div.sk-item {position: relative;z-index: 1;}#sk-container-id-1 div.sk-parallel {display: flex;align-items: stretch;justify-content: center;background-color: white;position: relative;}#sk-container-id-1 div.sk-item::before, #sk-container-id-1 div.sk-parallel-item::before {content: \"\";position: absolute;border-left: 1px solid gray;box-sizing: border-box;top: 0;bottom: 0;left: 50%;z-index: -1;}#sk-container-id-1 div.sk-parallel-item {display: flex;flex-direction: column;z-index: 1;position: relative;background-color: white;}#sk-container-id-1 div.sk-parallel-item:first-child::after {align-self: flex-end;width: 50%;}#sk-container-id-1 div.sk-parallel-item:last-child::after {align-self: flex-start;width: 50%;}#sk-container-id-1 div.sk-parallel-item:only-child::after {width: 0;}#sk-container-id-1 div.sk-dashed-wrapped {border: 1px dashed gray;margin: 0 0.4em 0.5em 0.4em;box-sizing: border-box;padding-bottom: 0.4em;background-color: white;}#sk-container-id-1 div.sk-label label {font-family: monospace;font-weight: bold;display: inline-block;line-height: 1.2em;}#sk-container-id-1 div.sk-label-container {text-align: center;}#sk-container-id-1 div.sk-container {/* jupyter's `normalize.less` sets `[hidden] { display: none; }` but bootstrap.min.css set `[hidden] { display: none !important; }` so we also need the `!important` here to be able to override the default hidden behavior on the sphinx rendered scikit-learn.org. See: https://github.com/scikit-learn/scikit-learn/issues/21755 */display: inline-block !important;position: relative;}#sk-container-id-1 div.sk-text-repr-fallback {display: none;}</style><div id=\"sk-container-id-1\" class=\"sk-top-container\"><div class=\"sk-text-repr-fallback\"><pre>SVC()</pre><b>In a Jupyter environment, please rerun this cell to show the HTML representation or trust the notebook. <br />On GitHub, the HTML representation is unable to render, please try loading this page with nbviewer.org.</b></div><div class=\"sk-container\" hidden><div class=\"sk-item\"><div class=\"sk-estimator sk-toggleable\"><input class=\"sk-toggleable__control sk-hidden--visually\" id=\"sk-estimator-id-1\" type=\"checkbox\" checked><label for=\"sk-estimator-id-1\" class=\"sk-toggleable__label sk-toggleable__label-arrow\">SVC</label><div class=\"sk-toggleable__content\"><pre>SVC()</pre></div></div></div></div></div>"
      ],
      "text/plain": [
       "SVC()"
      ]
     },
     "execution_count": 8,
     "metadata": {},
     "output_type": "execute_result"
    }
   ],
   "source": [
    "svm = SVC()\n",
    "svm.fit(X_train,y_train)"
   ]
  },
  {
   "cell_type": "markdown",
   "id": "b7c33d86",
   "metadata": {
    "papermill": {
     "duration": 0.005974,
     "end_time": "2023-07-16T18:02:10.987631",
     "exception": false,
     "start_time": "2023-07-16T18:02:10.981657",
     "status": "completed"
    },
    "tags": []
   },
   "source": [
    "- make prediction and get the model accuracy "
   ]
  },
  {
   "cell_type": "code",
   "execution_count": 9,
   "id": "955b0779",
   "metadata": {
    "execution": {
     "iopub.execute_input": "2023-07-16T18:02:11.001726Z",
     "iopub.status.busy": "2023-07-16T18:02:11.000962Z",
     "iopub.status.idle": "2023-07-16T18:02:11.006693Z",
     "shell.execute_reply": "2023-07-16T18:02:11.006163Z"
    },
    "papermill": {
     "duration": 0.014139,
     "end_time": "2023-07-16T18:02:11.008105",
     "exception": false,
     "start_time": "2023-07-16T18:02:10.993966",
     "status": "completed"
    },
    "tags": []
   },
   "outputs": [
    {
     "data": {
      "text/plain": [
       "0.75"
      ]
     },
     "execution_count": 9,
     "metadata": {},
     "output_type": "execute_result"
    }
   ],
   "source": [
    "y_pred = svm.predict(X_test)\n",
    "accuracy_score(y_test,y_pred)"
   ]
  },
  {
   "cell_type": "markdown",
   "id": "7489ac93",
   "metadata": {
    "papermill": {
     "duration": 0.006138,
     "end_time": "2023-07-16T18:02:11.020412",
     "exception": false,
     "start_time": "2023-07-16T18:02:11.014274",
     "status": "completed"
    },
    "tags": []
   },
   "source": [
    "the model accuracy = .25 very bad result "
   ]
  },
  {
   "cell_type": "markdown",
   "id": "ba0d32c2",
   "metadata": {
    "papermill": {
     "duration": 0.00602,
     "end_time": "2023-07-16T18:02:11.032630",
     "exception": false,
     "start_time": "2023-07-16T18:02:11.026610",
     "status": "completed"
    },
    "tags": []
   },
   "source": [
    "### Voting Ensamble Learning \n",
    "- in the voting algorithm we will combine many machine learning models \n",
    "- each model will train on the whole data we have \n",
    "- then each model will make a predection \n",
    "- then we will get the majority of predections as our result "
   ]
  },
  {
   "cell_type": "code",
   "execution_count": 10,
   "id": "a9658bd4",
   "metadata": {
    "execution": {
     "iopub.execute_input": "2023-07-16T18:02:11.047223Z",
     "iopub.status.busy": "2023-07-16T18:02:11.046430Z",
     "iopub.status.idle": "2023-07-16T18:02:11.050374Z",
     "shell.execute_reply": "2023-07-16T18:02:11.049801Z"
    },
    "papermill": {
     "duration": 0.012908,
     "end_time": "2023-07-16T18:02:11.051927",
     "exception": false,
     "start_time": "2023-07-16T18:02:11.039019",
     "status": "completed"
    },
    "tags": []
   },
   "outputs": [],
   "source": [
    "## Create many mode types \n",
    "lr = LogisticRegression()\n",
    "dt = DecisionTreeClassifier()\n",
    "svm = SVC()\n",
    "knn = KNeighborsClassifier()"
   ]
  },
  {
   "cell_type": "code",
   "execution_count": 11,
   "id": "e993a312",
   "metadata": {
    "execution": {
     "iopub.execute_input": "2023-07-16T18:02:11.067615Z",
     "iopub.status.busy": "2023-07-16T18:02:11.067036Z",
     "iopub.status.idle": "2023-07-16T18:02:11.071034Z",
     "shell.execute_reply": "2023-07-16T18:02:11.070289Z"
    },
    "papermill": {
     "duration": 0.013064,
     "end_time": "2023-07-16T18:02:11.072529",
     "exception": false,
     "start_time": "2023-07-16T18:02:11.059465",
     "status": "completed"
    },
    "tags": []
   },
   "outputs": [],
   "source": [
    "## create a voting classifier \n",
    "model_list = [('lr',lr),('dt',dt),('svm',svm)]\n",
    "\n",
    "v = VotingClassifier(\n",
    "    estimators = model_list , \n",
    "    n_jobs=-1\n",
    ")"
   ]
  },
  {
   "cell_type": "code",
   "execution_count": 12,
   "id": "134485ec",
   "metadata": {
    "execution": {
     "iopub.execute_input": "2023-07-16T18:02:11.087152Z",
     "iopub.status.busy": "2023-07-16T18:02:11.086885Z",
     "iopub.status.idle": "2023-07-16T18:02:11.939386Z",
     "shell.execute_reply": "2023-07-16T18:02:11.938564Z"
    },
    "papermill": {
     "duration": 0.861747,
     "end_time": "2023-07-16T18:02:11.940907",
     "exception": false,
     "start_time": "2023-07-16T18:02:11.079160",
     "status": "completed"
    },
    "tags": []
   },
   "outputs": [
    {
     "name": "stderr",
     "output_type": "stream",
     "text": [
      "/opt/conda/lib/python3.10/site-packages/scipy/__init__.py:146: UserWarning: A NumPy version >=1.16.5 and <1.23.0 is required for this version of SciPy (detected version 1.23.5\n",
      "  warnings.warn(f\"A NumPy version >={np_minversion} and <{np_maxversion}\"\n",
      "/opt/conda/lib/python3.10/site-packages/scipy/__init__.py:146: UserWarning: A NumPy version >=1.16.5 and <1.23.0 is required for this version of SciPy (detected version 1.23.5\n",
      "  warnings.warn(f\"A NumPy version >={np_minversion} and <{np_maxversion}\"\n",
      "/opt/conda/lib/python3.10/site-packages/scipy/__init__.py:146: UserWarning: A NumPy version >=1.16.5 and <1.23.0 is required for this version of SciPy (detected version 1.23.5\n",
      "  warnings.warn(f\"A NumPy version >={np_minversion} and <{np_maxversion}\"\n"
     ]
    },
    {
     "data": {
      "text/html": [
       "<style>#sk-container-id-2 {color: black;background-color: white;}#sk-container-id-2 pre{padding: 0;}#sk-container-id-2 div.sk-toggleable {background-color: white;}#sk-container-id-2 label.sk-toggleable__label {cursor: pointer;display: block;width: 100%;margin-bottom: 0;padding: 0.3em;box-sizing: border-box;text-align: center;}#sk-container-id-2 label.sk-toggleable__label-arrow:before {content: \"▸\";float: left;margin-right: 0.25em;color: #696969;}#sk-container-id-2 label.sk-toggleable__label-arrow:hover:before {color: black;}#sk-container-id-2 div.sk-estimator:hover label.sk-toggleable__label-arrow:before {color: black;}#sk-container-id-2 div.sk-toggleable__content {max-height: 0;max-width: 0;overflow: hidden;text-align: left;background-color: #f0f8ff;}#sk-container-id-2 div.sk-toggleable__content pre {margin: 0.2em;color: black;border-radius: 0.25em;background-color: #f0f8ff;}#sk-container-id-2 input.sk-toggleable__control:checked~div.sk-toggleable__content {max-height: 200px;max-width: 100%;overflow: auto;}#sk-container-id-2 input.sk-toggleable__control:checked~label.sk-toggleable__label-arrow:before {content: \"▾\";}#sk-container-id-2 div.sk-estimator input.sk-toggleable__control:checked~label.sk-toggleable__label {background-color: #d4ebff;}#sk-container-id-2 div.sk-label input.sk-toggleable__control:checked~label.sk-toggleable__label {background-color: #d4ebff;}#sk-container-id-2 input.sk-hidden--visually {border: 0;clip: rect(1px 1px 1px 1px);clip: rect(1px, 1px, 1px, 1px);height: 1px;margin: -1px;overflow: hidden;padding: 0;position: absolute;width: 1px;}#sk-container-id-2 div.sk-estimator {font-family: monospace;background-color: #f0f8ff;border: 1px dotted black;border-radius: 0.25em;box-sizing: border-box;margin-bottom: 0.5em;}#sk-container-id-2 div.sk-estimator:hover {background-color: #d4ebff;}#sk-container-id-2 div.sk-parallel-item::after {content: \"\";width: 100%;border-bottom: 1px solid gray;flex-grow: 1;}#sk-container-id-2 div.sk-label:hover label.sk-toggleable__label {background-color: #d4ebff;}#sk-container-id-2 div.sk-serial::before {content: \"\";position: absolute;border-left: 1px solid gray;box-sizing: border-box;top: 0;bottom: 0;left: 50%;z-index: 0;}#sk-container-id-2 div.sk-serial {display: flex;flex-direction: column;align-items: center;background-color: white;padding-right: 0.2em;padding-left: 0.2em;position: relative;}#sk-container-id-2 div.sk-item {position: relative;z-index: 1;}#sk-container-id-2 div.sk-parallel {display: flex;align-items: stretch;justify-content: center;background-color: white;position: relative;}#sk-container-id-2 div.sk-item::before, #sk-container-id-2 div.sk-parallel-item::before {content: \"\";position: absolute;border-left: 1px solid gray;box-sizing: border-box;top: 0;bottom: 0;left: 50%;z-index: -1;}#sk-container-id-2 div.sk-parallel-item {display: flex;flex-direction: column;z-index: 1;position: relative;background-color: white;}#sk-container-id-2 div.sk-parallel-item:first-child::after {align-self: flex-end;width: 50%;}#sk-container-id-2 div.sk-parallel-item:last-child::after {align-self: flex-start;width: 50%;}#sk-container-id-2 div.sk-parallel-item:only-child::after {width: 0;}#sk-container-id-2 div.sk-dashed-wrapped {border: 1px dashed gray;margin: 0 0.4em 0.5em 0.4em;box-sizing: border-box;padding-bottom: 0.4em;background-color: white;}#sk-container-id-2 div.sk-label label {font-family: monospace;font-weight: bold;display: inline-block;line-height: 1.2em;}#sk-container-id-2 div.sk-label-container {text-align: center;}#sk-container-id-2 div.sk-container {/* jupyter's `normalize.less` sets `[hidden] { display: none; }` but bootstrap.min.css set `[hidden] { display: none !important; }` so we also need the `!important` here to be able to override the default hidden behavior on the sphinx rendered scikit-learn.org. See: https://github.com/scikit-learn/scikit-learn/issues/21755 */display: inline-block !important;position: relative;}#sk-container-id-2 div.sk-text-repr-fallback {display: none;}</style><div id=\"sk-container-id-2\" class=\"sk-top-container\"><div class=\"sk-text-repr-fallback\"><pre>VotingClassifier(estimators=[(&#x27;lr&#x27;, LogisticRegression()),\n",
       "                             (&#x27;dt&#x27;, DecisionTreeClassifier()), (&#x27;svm&#x27;, SVC())],\n",
       "                 n_jobs=-1)</pre><b>In a Jupyter environment, please rerun this cell to show the HTML representation or trust the notebook. <br />On GitHub, the HTML representation is unable to render, please try loading this page with nbviewer.org.</b></div><div class=\"sk-container\" hidden><div class=\"sk-item sk-dashed-wrapped\"><div class=\"sk-label-container\"><div class=\"sk-label sk-toggleable\"><input class=\"sk-toggleable__control sk-hidden--visually\" id=\"sk-estimator-id-2\" type=\"checkbox\" ><label for=\"sk-estimator-id-2\" class=\"sk-toggleable__label sk-toggleable__label-arrow\">VotingClassifier</label><div class=\"sk-toggleable__content\"><pre>VotingClassifier(estimators=[(&#x27;lr&#x27;, LogisticRegression()),\n",
       "                             (&#x27;dt&#x27;, DecisionTreeClassifier()), (&#x27;svm&#x27;, SVC())],\n",
       "                 n_jobs=-1)</pre></div></div></div><div class=\"sk-parallel\"><div class=\"sk-parallel-item\"><div class=\"sk-item\"><div class=\"sk-label-container\"><div class=\"sk-label sk-toggleable\"><label>lr</label></div></div><div class=\"sk-serial\"><div class=\"sk-item\"><div class=\"sk-estimator sk-toggleable\"><input class=\"sk-toggleable__control sk-hidden--visually\" id=\"sk-estimator-id-3\" type=\"checkbox\" ><label for=\"sk-estimator-id-3\" class=\"sk-toggleable__label sk-toggleable__label-arrow\">LogisticRegression</label><div class=\"sk-toggleable__content\"><pre>LogisticRegression()</pre></div></div></div></div></div></div><div class=\"sk-parallel-item\"><div class=\"sk-item\"><div class=\"sk-label-container\"><div class=\"sk-label sk-toggleable\"><label>dt</label></div></div><div class=\"sk-serial\"><div class=\"sk-item\"><div class=\"sk-estimator sk-toggleable\"><input class=\"sk-toggleable__control sk-hidden--visually\" id=\"sk-estimator-id-4\" type=\"checkbox\" ><label for=\"sk-estimator-id-4\" class=\"sk-toggleable__label sk-toggleable__label-arrow\">DecisionTreeClassifier</label><div class=\"sk-toggleable__content\"><pre>DecisionTreeClassifier()</pre></div></div></div></div></div></div><div class=\"sk-parallel-item\"><div class=\"sk-item\"><div class=\"sk-label-container\"><div class=\"sk-label sk-toggleable\"><label>svm</label></div></div><div class=\"sk-serial\"><div class=\"sk-item\"><div class=\"sk-estimator sk-toggleable\"><input class=\"sk-toggleable__control sk-hidden--visually\" id=\"sk-estimator-id-5\" type=\"checkbox\" ><label for=\"sk-estimator-id-5\" class=\"sk-toggleable__label sk-toggleable__label-arrow\">SVC</label><div class=\"sk-toggleable__content\"><pre>SVC()</pre></div></div></div></div></div></div></div></div></div></div>"
      ],
      "text/plain": [
       "VotingClassifier(estimators=[('lr', LogisticRegression()),\n",
       "                             ('dt', DecisionTreeClassifier()), ('svm', SVC())],\n",
       "                 n_jobs=-1)"
      ]
     },
     "execution_count": 12,
     "metadata": {},
     "output_type": "execute_result"
    }
   ],
   "source": [
    "# train the voting classifier \n",
    "v.fit(X_train,y_train)"
   ]
  },
  {
   "cell_type": "markdown",
   "id": "32472192",
   "metadata": {
    "papermill": {
     "duration": 0.00637,
     "end_time": "2023-07-16T18:02:11.954324",
     "exception": false,
     "start_time": "2023-07-16T18:02:11.947954",
     "status": "completed"
    },
    "tags": []
   },
   "source": [
    "- WOW now the accuracy increased from .25 to .75"
   ]
  },
  {
   "cell_type": "markdown",
   "id": "713d0a02",
   "metadata": {
    "papermill": {
     "duration": 0.006336,
     "end_time": "2023-07-16T18:02:11.967178",
     "exception": false,
     "start_time": "2023-07-16T18:02:11.960842",
     "status": "completed"
    },
    "tags": []
   },
   "source": [
    "-------\n",
    "### Bagging Ensemble Learning \n",
    "- it is short for bootstrap aggregating\n",
    "- multiple models are trained on different subsets of the training data. Each model is trained independently, and their predictions are combined through averaging or voting to make the final prediction\n",
    "- each model is trained on a randomly sampled subset of the training data with replacement\n",
    "- the models are trained in parralel "
   ]
  },
  {
   "cell_type": "code",
   "execution_count": 13,
   "id": "1b114d15",
   "metadata": {
    "execution": {
     "iopub.execute_input": "2023-07-16T18:02:11.982255Z",
     "iopub.status.busy": "2023-07-16T18:02:11.981683Z",
     "iopub.status.idle": "2023-07-16T18:02:12.002507Z",
     "shell.execute_reply": "2023-07-16T18:02:12.001896Z"
    },
    "papermill": {
     "duration": 0.030303,
     "end_time": "2023-07-16T18:02:12.003919",
     "exception": false,
     "start_time": "2023-07-16T18:02:11.973616",
     "status": "completed"
    },
    "tags": []
   },
   "outputs": [
    {
     "data": {
      "text/html": [
       "<style>#sk-container-id-3 {color: black;background-color: white;}#sk-container-id-3 pre{padding: 0;}#sk-container-id-3 div.sk-toggleable {background-color: white;}#sk-container-id-3 label.sk-toggleable__label {cursor: pointer;display: block;width: 100%;margin-bottom: 0;padding: 0.3em;box-sizing: border-box;text-align: center;}#sk-container-id-3 label.sk-toggleable__label-arrow:before {content: \"▸\";float: left;margin-right: 0.25em;color: #696969;}#sk-container-id-3 label.sk-toggleable__label-arrow:hover:before {color: black;}#sk-container-id-3 div.sk-estimator:hover label.sk-toggleable__label-arrow:before {color: black;}#sk-container-id-3 div.sk-toggleable__content {max-height: 0;max-width: 0;overflow: hidden;text-align: left;background-color: #f0f8ff;}#sk-container-id-3 div.sk-toggleable__content pre {margin: 0.2em;color: black;border-radius: 0.25em;background-color: #f0f8ff;}#sk-container-id-3 input.sk-toggleable__control:checked~div.sk-toggleable__content {max-height: 200px;max-width: 100%;overflow: auto;}#sk-container-id-3 input.sk-toggleable__control:checked~label.sk-toggleable__label-arrow:before {content: \"▾\";}#sk-container-id-3 div.sk-estimator input.sk-toggleable__control:checked~label.sk-toggleable__label {background-color: #d4ebff;}#sk-container-id-3 div.sk-label input.sk-toggleable__control:checked~label.sk-toggleable__label {background-color: #d4ebff;}#sk-container-id-3 input.sk-hidden--visually {border: 0;clip: rect(1px 1px 1px 1px);clip: rect(1px, 1px, 1px, 1px);height: 1px;margin: -1px;overflow: hidden;padding: 0;position: absolute;width: 1px;}#sk-container-id-3 div.sk-estimator {font-family: monospace;background-color: #f0f8ff;border: 1px dotted black;border-radius: 0.25em;box-sizing: border-box;margin-bottom: 0.5em;}#sk-container-id-3 div.sk-estimator:hover {background-color: #d4ebff;}#sk-container-id-3 div.sk-parallel-item::after {content: \"\";width: 100%;border-bottom: 1px solid gray;flex-grow: 1;}#sk-container-id-3 div.sk-label:hover label.sk-toggleable__label {background-color: #d4ebff;}#sk-container-id-3 div.sk-serial::before {content: \"\";position: absolute;border-left: 1px solid gray;box-sizing: border-box;top: 0;bottom: 0;left: 50%;z-index: 0;}#sk-container-id-3 div.sk-serial {display: flex;flex-direction: column;align-items: center;background-color: white;padding-right: 0.2em;padding-left: 0.2em;position: relative;}#sk-container-id-3 div.sk-item {position: relative;z-index: 1;}#sk-container-id-3 div.sk-parallel {display: flex;align-items: stretch;justify-content: center;background-color: white;position: relative;}#sk-container-id-3 div.sk-item::before, #sk-container-id-3 div.sk-parallel-item::before {content: \"\";position: absolute;border-left: 1px solid gray;box-sizing: border-box;top: 0;bottom: 0;left: 50%;z-index: -1;}#sk-container-id-3 div.sk-parallel-item {display: flex;flex-direction: column;z-index: 1;position: relative;background-color: white;}#sk-container-id-3 div.sk-parallel-item:first-child::after {align-self: flex-end;width: 50%;}#sk-container-id-3 div.sk-parallel-item:last-child::after {align-self: flex-start;width: 50%;}#sk-container-id-3 div.sk-parallel-item:only-child::after {width: 0;}#sk-container-id-3 div.sk-dashed-wrapped {border: 1px dashed gray;margin: 0 0.4em 0.5em 0.4em;box-sizing: border-box;padding-bottom: 0.4em;background-color: white;}#sk-container-id-3 div.sk-label label {font-family: monospace;font-weight: bold;display: inline-block;line-height: 1.2em;}#sk-container-id-3 div.sk-label-container {text-align: center;}#sk-container-id-3 div.sk-container {/* jupyter's `normalize.less` sets `[hidden] { display: none; }` but bootstrap.min.css set `[hidden] { display: none !important; }` so we also need the `!important` here to be able to override the default hidden behavior on the sphinx rendered scikit-learn.org. See: https://github.com/scikit-learn/scikit-learn/issues/21755 */display: inline-block !important;position: relative;}#sk-container-id-3 div.sk-text-repr-fallback {display: none;}</style><div id=\"sk-container-id-3\" class=\"sk-top-container\"><div class=\"sk-text-repr-fallback\"><pre>BaggingClassifier(estimator=DecisionTreeClassifier(), n_estimators=9)</pre><b>In a Jupyter environment, please rerun this cell to show the HTML representation or trust the notebook. <br />On GitHub, the HTML representation is unable to render, please try loading this page with nbviewer.org.</b></div><div class=\"sk-container\" hidden><div class=\"sk-item sk-dashed-wrapped\"><div class=\"sk-label-container\"><div class=\"sk-label sk-toggleable\"><input class=\"sk-toggleable__control sk-hidden--visually\" id=\"sk-estimator-id-6\" type=\"checkbox\" ><label for=\"sk-estimator-id-6\" class=\"sk-toggleable__label sk-toggleable__label-arrow\">BaggingClassifier</label><div class=\"sk-toggleable__content\"><pre>BaggingClassifier(estimator=DecisionTreeClassifier(), n_estimators=9)</pre></div></div></div><div class=\"sk-parallel\"><div class=\"sk-parallel-item\"><div class=\"sk-item\"><div class=\"sk-label-container\"><div class=\"sk-label sk-toggleable\"><input class=\"sk-toggleable__control sk-hidden--visually\" id=\"sk-estimator-id-7\" type=\"checkbox\" ><label for=\"sk-estimator-id-7\" class=\"sk-toggleable__label sk-toggleable__label-arrow\">estimator: DecisionTreeClassifier</label><div class=\"sk-toggleable__content\"><pre>DecisionTreeClassifier()</pre></div></div></div><div class=\"sk-serial\"><div class=\"sk-item\"><div class=\"sk-estimator sk-toggleable\"><input class=\"sk-toggleable__control sk-hidden--visually\" id=\"sk-estimator-id-8\" type=\"checkbox\" ><label for=\"sk-estimator-id-8\" class=\"sk-toggleable__label sk-toggleable__label-arrow\">DecisionTreeClassifier</label><div class=\"sk-toggleable__content\"><pre>DecisionTreeClassifier()</pre></div></div></div></div></div></div></div></div></div></div>"
      ],
      "text/plain": [
       "BaggingClassifier(estimator=DecisionTreeClassifier(), n_estimators=9)"
      ]
     },
     "execution_count": 13,
     "metadata": {},
     "output_type": "execute_result"
    }
   ],
   "source": [
    "# create the bagging classifier \n",
    "bc = BaggingClassifier(\n",
    "    estimator= dt , \n",
    "    n_estimators=9\n",
    ")\n",
    "\n",
    "# fit the model on the data \n",
    "bc.fit(X_train,y_train)"
   ]
  },
  {
   "cell_type": "code",
   "execution_count": 14,
   "id": "e4093195",
   "metadata": {
    "execution": {
     "iopub.execute_input": "2023-07-16T18:02:12.019297Z",
     "iopub.status.busy": "2023-07-16T18:02:12.018940Z",
     "iopub.status.idle": "2023-07-16T18:02:12.027376Z",
     "shell.execute_reply": "2023-07-16T18:02:12.026567Z"
    },
    "papermill": {
     "duration": 0.019343,
     "end_time": "2023-07-16T18:02:12.030297",
     "exception": false,
     "start_time": "2023-07-16T18:02:12.010954",
     "status": "completed"
    },
    "tags": []
   },
   "outputs": [
    {
     "data": {
      "text/plain": [
       "0.75"
      ]
     },
     "execution_count": 14,
     "metadata": {},
     "output_type": "execute_result"
    }
   ],
   "source": [
    "# make predictions \n",
    "y_pred = bc.predict(X_test)\n",
    "accuracy_score(y_test,y_pred)"
   ]
  },
  {
   "cell_type": "markdown",
   "id": "d51cb809",
   "metadata": {
    "papermill": {
     "duration": 0.006802,
     "end_time": "2023-07-16T18:02:12.044043",
     "exception": false,
     "start_time": "2023-07-16T18:02:12.037241",
     "status": "completed"
    },
    "tags": []
   },
   "source": [
    "- WOW we get a good accuracy here to "
   ]
  },
  {
   "cell_type": "markdown",
   "id": "e592aed3",
   "metadata": {
    "papermill": {
     "duration": 0.006554,
     "end_time": "2023-07-16T18:02:12.057356",
     "exception": false,
     "start_time": "2023-07-16T18:02:12.050802",
     "status": "completed"
    },
    "tags": []
   },
   "source": [
    "---------\n",
    "### Boosting Ensemble Learning \n",
    "- in Boosting we will combine many machine learning algorithsm \n",
    "- works by iteratively training weak models in sequence, where each subsequent model focuses on correcting the mistakes made by the previous models\n",
    "- it is like AdaBoost and Gradient Boosting"
   ]
  },
  {
   "cell_type": "code",
   "execution_count": 15,
   "id": "766d947d",
   "metadata": {
    "execution": {
     "iopub.execute_input": "2023-07-16T18:02:12.073083Z",
     "iopub.status.busy": "2023-07-16T18:02:12.072194Z",
     "iopub.status.idle": "2023-07-16T18:02:12.092353Z",
     "shell.execute_reply": "2023-07-16T18:02:12.091545Z"
    },
    "papermill": {
     "duration": 0.029442,
     "end_time": "2023-07-16T18:02:12.093948",
     "exception": false,
     "start_time": "2023-07-16T18:02:12.064506",
     "status": "completed"
    },
    "tags": []
   },
   "outputs": [
    {
     "data": {
      "text/html": [
       "<style>#sk-container-id-4 {color: black;background-color: white;}#sk-container-id-4 pre{padding: 0;}#sk-container-id-4 div.sk-toggleable {background-color: white;}#sk-container-id-4 label.sk-toggleable__label {cursor: pointer;display: block;width: 100%;margin-bottom: 0;padding: 0.3em;box-sizing: border-box;text-align: center;}#sk-container-id-4 label.sk-toggleable__label-arrow:before {content: \"▸\";float: left;margin-right: 0.25em;color: #696969;}#sk-container-id-4 label.sk-toggleable__label-arrow:hover:before {color: black;}#sk-container-id-4 div.sk-estimator:hover label.sk-toggleable__label-arrow:before {color: black;}#sk-container-id-4 div.sk-toggleable__content {max-height: 0;max-width: 0;overflow: hidden;text-align: left;background-color: #f0f8ff;}#sk-container-id-4 div.sk-toggleable__content pre {margin: 0.2em;color: black;border-radius: 0.25em;background-color: #f0f8ff;}#sk-container-id-4 input.sk-toggleable__control:checked~div.sk-toggleable__content {max-height: 200px;max-width: 100%;overflow: auto;}#sk-container-id-4 input.sk-toggleable__control:checked~label.sk-toggleable__label-arrow:before {content: \"▾\";}#sk-container-id-4 div.sk-estimator input.sk-toggleable__control:checked~label.sk-toggleable__label {background-color: #d4ebff;}#sk-container-id-4 div.sk-label input.sk-toggleable__control:checked~label.sk-toggleable__label {background-color: #d4ebff;}#sk-container-id-4 input.sk-hidden--visually {border: 0;clip: rect(1px 1px 1px 1px);clip: rect(1px, 1px, 1px, 1px);height: 1px;margin: -1px;overflow: hidden;padding: 0;position: absolute;width: 1px;}#sk-container-id-4 div.sk-estimator {font-family: monospace;background-color: #f0f8ff;border: 1px dotted black;border-radius: 0.25em;box-sizing: border-box;margin-bottom: 0.5em;}#sk-container-id-4 div.sk-estimator:hover {background-color: #d4ebff;}#sk-container-id-4 div.sk-parallel-item::after {content: \"\";width: 100%;border-bottom: 1px solid gray;flex-grow: 1;}#sk-container-id-4 div.sk-label:hover label.sk-toggleable__label {background-color: #d4ebff;}#sk-container-id-4 div.sk-serial::before {content: \"\";position: absolute;border-left: 1px solid gray;box-sizing: border-box;top: 0;bottom: 0;left: 50%;z-index: 0;}#sk-container-id-4 div.sk-serial {display: flex;flex-direction: column;align-items: center;background-color: white;padding-right: 0.2em;padding-left: 0.2em;position: relative;}#sk-container-id-4 div.sk-item {position: relative;z-index: 1;}#sk-container-id-4 div.sk-parallel {display: flex;align-items: stretch;justify-content: center;background-color: white;position: relative;}#sk-container-id-4 div.sk-item::before, #sk-container-id-4 div.sk-parallel-item::before {content: \"\";position: absolute;border-left: 1px solid gray;box-sizing: border-box;top: 0;bottom: 0;left: 50%;z-index: -1;}#sk-container-id-4 div.sk-parallel-item {display: flex;flex-direction: column;z-index: 1;position: relative;background-color: white;}#sk-container-id-4 div.sk-parallel-item:first-child::after {align-self: flex-end;width: 50%;}#sk-container-id-4 div.sk-parallel-item:last-child::after {align-self: flex-start;width: 50%;}#sk-container-id-4 div.sk-parallel-item:only-child::after {width: 0;}#sk-container-id-4 div.sk-dashed-wrapped {border: 1px dashed gray;margin: 0 0.4em 0.5em 0.4em;box-sizing: border-box;padding-bottom: 0.4em;background-color: white;}#sk-container-id-4 div.sk-label label {font-family: monospace;font-weight: bold;display: inline-block;line-height: 1.2em;}#sk-container-id-4 div.sk-label-container {text-align: center;}#sk-container-id-4 div.sk-container {/* jupyter's `normalize.less` sets `[hidden] { display: none; }` but bootstrap.min.css set `[hidden] { display: none !important; }` so we also need the `!important` here to be able to override the default hidden behavior on the sphinx rendered scikit-learn.org. See: https://github.com/scikit-learn/scikit-learn/issues/21755 */display: inline-block !important;position: relative;}#sk-container-id-4 div.sk-text-repr-fallback {display: none;}</style><div id=\"sk-container-id-4\" class=\"sk-top-container\"><div class=\"sk-text-repr-fallback\"><pre>AdaBoostClassifier(n_estimators=10)</pre><b>In a Jupyter environment, please rerun this cell to show the HTML representation or trust the notebook. <br />On GitHub, the HTML representation is unable to render, please try loading this page with nbviewer.org.</b></div><div class=\"sk-container\" hidden><div class=\"sk-item\"><div class=\"sk-estimator sk-toggleable\"><input class=\"sk-toggleable__control sk-hidden--visually\" id=\"sk-estimator-id-9\" type=\"checkbox\" checked><label for=\"sk-estimator-id-9\" class=\"sk-toggleable__label sk-toggleable__label-arrow\">AdaBoostClassifier</label><div class=\"sk-toggleable__content\"><pre>AdaBoostClassifier(n_estimators=10)</pre></div></div></div></div></div>"
      ],
      "text/plain": [
       "AdaBoostClassifier(n_estimators=10)"
      ]
     },
     "execution_count": 15,
     "metadata": {},
     "output_type": "execute_result"
    }
   ],
   "source": [
    "# create the model  with 10 sub models \n",
    "adm = AdaBoostClassifier(n_estimators=10)\n",
    "\n",
    "# fit the model \n",
    "adm.fit(X_train,y_train)"
   ]
  },
  {
   "cell_type": "code",
   "execution_count": 16,
   "id": "49d3d7dd",
   "metadata": {
    "execution": {
     "iopub.execute_input": "2023-07-16T18:02:12.109414Z",
     "iopub.status.busy": "2023-07-16T18:02:12.109075Z",
     "iopub.status.idle": "2023-07-16T18:02:12.117680Z",
     "shell.execute_reply": "2023-07-16T18:02:12.116848Z"
    },
    "papermill": {
     "duration": 0.018245,
     "end_time": "2023-07-16T18:02:12.119170",
     "exception": false,
     "start_time": "2023-07-16T18:02:12.100925",
     "status": "completed"
    },
    "tags": []
   },
   "outputs": [
    {
     "data": {
      "text/plain": [
       "0.75"
      ]
     },
     "execution_count": 16,
     "metadata": {},
     "output_type": "execute_result"
    }
   ],
   "source": [
    "# make prediction \n",
    "y_pred = adm.predict(X_test)\n",
    "\n",
    "# test the accuracy \n",
    "accuracy_score(y_test,y_pred)"
   ]
  },
  {
   "cell_type": "markdown",
   "id": "74d974cf",
   "metadata": {
    "papermill": {
     "duration": 0.009165,
     "end_time": "2023-07-16T18:02:12.136752",
     "exception": false,
     "start_time": "2023-07-16T18:02:12.127587",
     "status": "completed"
    },
    "tags": []
   },
   "source": [
    "-------\n",
    "### Stacking \n",
    "- training multiple models and using their predictions as inputs to a meta-model. \n",
    "- The meta-model learns to combine the predictions of the base models to make the final prediction.\n",
    "- The idea behind stacking is that the meta-model can capture higher-level patterns and relationships among the base model predictions"
   ]
  },
  {
   "cell_type": "code",
   "execution_count": 17,
   "id": "1d0c2f8a",
   "metadata": {
    "execution": {
     "iopub.execute_input": "2023-07-16T18:02:12.156515Z",
     "iopub.status.busy": "2023-07-16T18:02:12.155808Z",
     "iopub.status.idle": "2023-07-16T18:02:12.160888Z",
     "shell.execute_reply": "2023-07-16T18:02:12.160177Z"
    },
    "papermill": {
     "duration": 0.017797,
     "end_time": "2023-07-16T18:02:12.164020",
     "exception": false,
     "start_time": "2023-07-16T18:02:12.146223",
     "status": "completed"
    },
    "tags": []
   },
   "outputs": [],
   "source": [
    "### Building Base models \n",
    "base_classifiers = [\n",
    "    ('lr' , LogisticRegression()) , \n",
    "    ('knn',KNeighborsClassifier()),\n",
    "    ('dt' , DecisionTreeClassifier()),\n",
    "    ('svm' , SVC())\n",
    "]\n",
    "\n",
    "## Build the stacking classifier \n",
    "sc = StackingClassifier(\n",
    "    estimators=base_classifiers , \n",
    "    final_estimator= SVC()  , \n",
    "    cv=3\n",
    ")"
   ]
  },
  {
   "cell_type": "code",
   "execution_count": 18,
   "id": "70e136a1",
   "metadata": {
    "execution": {
     "iopub.execute_input": "2023-07-16T18:02:12.183517Z",
     "iopub.status.busy": "2023-07-16T18:02:12.182969Z",
     "iopub.status.idle": "2023-07-16T18:02:12.258703Z",
     "shell.execute_reply": "2023-07-16T18:02:12.258026Z"
    },
    "papermill": {
     "duration": 0.086597,
     "end_time": "2023-07-16T18:02:12.260558",
     "exception": false,
     "start_time": "2023-07-16T18:02:12.173961",
     "status": "completed"
    },
    "tags": []
   },
   "outputs": [
    {
     "data": {
      "text/html": [
       "<style>#sk-container-id-5 {color: black;background-color: white;}#sk-container-id-5 pre{padding: 0;}#sk-container-id-5 div.sk-toggleable {background-color: white;}#sk-container-id-5 label.sk-toggleable__label {cursor: pointer;display: block;width: 100%;margin-bottom: 0;padding: 0.3em;box-sizing: border-box;text-align: center;}#sk-container-id-5 label.sk-toggleable__label-arrow:before {content: \"▸\";float: left;margin-right: 0.25em;color: #696969;}#sk-container-id-5 label.sk-toggleable__label-arrow:hover:before {color: black;}#sk-container-id-5 div.sk-estimator:hover label.sk-toggleable__label-arrow:before {color: black;}#sk-container-id-5 div.sk-toggleable__content {max-height: 0;max-width: 0;overflow: hidden;text-align: left;background-color: #f0f8ff;}#sk-container-id-5 div.sk-toggleable__content pre {margin: 0.2em;color: black;border-radius: 0.25em;background-color: #f0f8ff;}#sk-container-id-5 input.sk-toggleable__control:checked~div.sk-toggleable__content {max-height: 200px;max-width: 100%;overflow: auto;}#sk-container-id-5 input.sk-toggleable__control:checked~label.sk-toggleable__label-arrow:before {content: \"▾\";}#sk-container-id-5 div.sk-estimator input.sk-toggleable__control:checked~label.sk-toggleable__label {background-color: #d4ebff;}#sk-container-id-5 div.sk-label input.sk-toggleable__control:checked~label.sk-toggleable__label {background-color: #d4ebff;}#sk-container-id-5 input.sk-hidden--visually {border: 0;clip: rect(1px 1px 1px 1px);clip: rect(1px, 1px, 1px, 1px);height: 1px;margin: -1px;overflow: hidden;padding: 0;position: absolute;width: 1px;}#sk-container-id-5 div.sk-estimator {font-family: monospace;background-color: #f0f8ff;border: 1px dotted black;border-radius: 0.25em;box-sizing: border-box;margin-bottom: 0.5em;}#sk-container-id-5 div.sk-estimator:hover {background-color: #d4ebff;}#sk-container-id-5 div.sk-parallel-item::after {content: \"\";width: 100%;border-bottom: 1px solid gray;flex-grow: 1;}#sk-container-id-5 div.sk-label:hover label.sk-toggleable__label {background-color: #d4ebff;}#sk-container-id-5 div.sk-serial::before {content: \"\";position: absolute;border-left: 1px solid gray;box-sizing: border-box;top: 0;bottom: 0;left: 50%;z-index: 0;}#sk-container-id-5 div.sk-serial {display: flex;flex-direction: column;align-items: center;background-color: white;padding-right: 0.2em;padding-left: 0.2em;position: relative;}#sk-container-id-5 div.sk-item {position: relative;z-index: 1;}#sk-container-id-5 div.sk-parallel {display: flex;align-items: stretch;justify-content: center;background-color: white;position: relative;}#sk-container-id-5 div.sk-item::before, #sk-container-id-5 div.sk-parallel-item::before {content: \"\";position: absolute;border-left: 1px solid gray;box-sizing: border-box;top: 0;bottom: 0;left: 50%;z-index: -1;}#sk-container-id-5 div.sk-parallel-item {display: flex;flex-direction: column;z-index: 1;position: relative;background-color: white;}#sk-container-id-5 div.sk-parallel-item:first-child::after {align-self: flex-end;width: 50%;}#sk-container-id-5 div.sk-parallel-item:last-child::after {align-self: flex-start;width: 50%;}#sk-container-id-5 div.sk-parallel-item:only-child::after {width: 0;}#sk-container-id-5 div.sk-dashed-wrapped {border: 1px dashed gray;margin: 0 0.4em 0.5em 0.4em;box-sizing: border-box;padding-bottom: 0.4em;background-color: white;}#sk-container-id-5 div.sk-label label {font-family: monospace;font-weight: bold;display: inline-block;line-height: 1.2em;}#sk-container-id-5 div.sk-label-container {text-align: center;}#sk-container-id-5 div.sk-container {/* jupyter's `normalize.less` sets `[hidden] { display: none; }` but bootstrap.min.css set `[hidden] { display: none !important; }` so we also need the `!important` here to be able to override the default hidden behavior on the sphinx rendered scikit-learn.org. See: https://github.com/scikit-learn/scikit-learn/issues/21755 */display: inline-block !important;position: relative;}#sk-container-id-5 div.sk-text-repr-fallback {display: none;}</style><div id=\"sk-container-id-5\" class=\"sk-top-container\"><div class=\"sk-text-repr-fallback\"><pre>StackingClassifier(cv=3,\n",
       "                   estimators=[(&#x27;lr&#x27;, LogisticRegression()),\n",
       "                               (&#x27;knn&#x27;, KNeighborsClassifier()),\n",
       "                               (&#x27;dt&#x27;, DecisionTreeClassifier()),\n",
       "                               (&#x27;svm&#x27;, SVC())],\n",
       "                   final_estimator=SVC())</pre><b>In a Jupyter environment, please rerun this cell to show the HTML representation or trust the notebook. <br />On GitHub, the HTML representation is unable to render, please try loading this page with nbviewer.org.</b></div><div class=\"sk-container\" hidden><div class=\"sk-item sk-dashed-wrapped\"><div class=\"sk-label-container\"><div class=\"sk-label sk-toggleable\"><input class=\"sk-toggleable__control sk-hidden--visually\" id=\"sk-estimator-id-10\" type=\"checkbox\" ><label for=\"sk-estimator-id-10\" class=\"sk-toggleable__label sk-toggleable__label-arrow\">StackingClassifier</label><div class=\"sk-toggleable__content\"><pre>StackingClassifier(cv=3,\n",
       "                   estimators=[(&#x27;lr&#x27;, LogisticRegression()),\n",
       "                               (&#x27;knn&#x27;, KNeighborsClassifier()),\n",
       "                               (&#x27;dt&#x27;, DecisionTreeClassifier()),\n",
       "                               (&#x27;svm&#x27;, SVC())],\n",
       "                   final_estimator=SVC())</pre></div></div></div><div class=\"sk-serial\"><div class=\"sk-item\"><div class=\"sk-parallel\"><div class=\"sk-parallel-item\"><div class=\"sk-item\"><div class=\"sk-label-container\"><div class=\"sk-label sk-toggleable\"><label>lr</label></div></div><div class=\"sk-serial\"><div class=\"sk-item\"><div class=\"sk-estimator sk-toggleable\"><input class=\"sk-toggleable__control sk-hidden--visually\" id=\"sk-estimator-id-11\" type=\"checkbox\" ><label for=\"sk-estimator-id-11\" class=\"sk-toggleable__label sk-toggleable__label-arrow\">LogisticRegression</label><div class=\"sk-toggleable__content\"><pre>LogisticRegression()</pre></div></div></div></div></div></div><div class=\"sk-parallel-item\"><div class=\"sk-item\"><div class=\"sk-label-container\"><div class=\"sk-label sk-toggleable\"><label>knn</label></div></div><div class=\"sk-serial\"><div class=\"sk-item\"><div class=\"sk-estimator sk-toggleable\"><input class=\"sk-toggleable__control sk-hidden--visually\" id=\"sk-estimator-id-12\" type=\"checkbox\" ><label for=\"sk-estimator-id-12\" class=\"sk-toggleable__label sk-toggleable__label-arrow\">KNeighborsClassifier</label><div class=\"sk-toggleable__content\"><pre>KNeighborsClassifier()</pre></div></div></div></div></div></div><div class=\"sk-parallel-item\"><div class=\"sk-item\"><div class=\"sk-label-container\"><div class=\"sk-label sk-toggleable\"><label>dt</label></div></div><div class=\"sk-serial\"><div class=\"sk-item\"><div class=\"sk-estimator sk-toggleable\"><input class=\"sk-toggleable__control sk-hidden--visually\" id=\"sk-estimator-id-13\" type=\"checkbox\" ><label for=\"sk-estimator-id-13\" class=\"sk-toggleable__label sk-toggleable__label-arrow\">DecisionTreeClassifier</label><div class=\"sk-toggleable__content\"><pre>DecisionTreeClassifier()</pre></div></div></div></div></div></div><div class=\"sk-parallel-item\"><div class=\"sk-item\"><div class=\"sk-label-container\"><div class=\"sk-label sk-toggleable\"><label>svm</label></div></div><div class=\"sk-serial\"><div class=\"sk-item\"><div class=\"sk-estimator sk-toggleable\"><input class=\"sk-toggleable__control sk-hidden--visually\" id=\"sk-estimator-id-14\" type=\"checkbox\" ><label for=\"sk-estimator-id-14\" class=\"sk-toggleable__label sk-toggleable__label-arrow\">SVC</label><div class=\"sk-toggleable__content\"><pre>SVC()</pre></div></div></div></div></div></div></div></div><div class=\"sk-item\"><div class=\"sk-parallel\"><div class=\"sk-parallel-item\"><div class=\"sk-item\"><div class=\"sk-label-container\"><div class=\"sk-label sk-toggleable\"><label>final_estimator</label></div></div><div class=\"sk-serial\"><div class=\"sk-item\"><div class=\"sk-estimator sk-toggleable\"><input class=\"sk-toggleable__control sk-hidden--visually\" id=\"sk-estimator-id-15\" type=\"checkbox\" ><label for=\"sk-estimator-id-15\" class=\"sk-toggleable__label sk-toggleable__label-arrow\">SVC</label><div class=\"sk-toggleable__content\"><pre>SVC()</pre></div></div></div></div></div></div></div></div></div></div></div></div>"
      ],
      "text/plain": [
       "StackingClassifier(cv=3,\n",
       "                   estimators=[('lr', LogisticRegression()),\n",
       "                               ('knn', KNeighborsClassifier()),\n",
       "                               ('dt', DecisionTreeClassifier()),\n",
       "                               ('svm', SVC())],\n",
       "                   final_estimator=SVC())"
      ]
     },
     "execution_count": 18,
     "metadata": {},
     "output_type": "execute_result"
    }
   ],
   "source": [
    "# fit the model \n",
    "sc.fit(X_train,y_train)"
   ]
  },
  {
   "cell_type": "code",
   "execution_count": 19,
   "id": "5c23e9d2",
   "metadata": {
    "execution": {
     "iopub.execute_input": "2023-07-16T18:02:12.282338Z",
     "iopub.status.busy": "2023-07-16T18:02:12.280883Z",
     "iopub.status.idle": "2023-07-16T18:02:12.289658Z",
     "shell.execute_reply": "2023-07-16T18:02:12.288786Z"
    },
    "papermill": {
     "duration": 0.019294,
     "end_time": "2023-07-16T18:02:12.291195",
     "exception": false,
     "start_time": "2023-07-16T18:02:12.271901",
     "status": "completed"
    },
    "tags": []
   },
   "outputs": [
    {
     "data": {
      "text/plain": [
       "0.75"
      ]
     },
     "execution_count": 19,
     "metadata": {},
     "output_type": "execute_result"
    }
   ],
   "source": [
    "# make predictions \n",
    "y_pred = sc.predict(X_test)\n",
    "accuracy_score(y_test,y_pred)"
   ]
  },
  {
   "cell_type": "markdown",
   "id": "2e137b64",
   "metadata": {
    "papermill": {
     "duration": 0.007061,
     "end_time": "2023-07-16T18:02:12.306236",
     "exception": false,
     "start_time": "2023-07-16T18:02:12.299175",
     "status": "completed"
    },
    "tags": []
   },
   "source": [
    "----\n",
    "### Conclusion \n",
    "- now we were able to higher the accuracy from .25 to .75 with 4 different ways in ensemble learning \n",
    "- most of the ensemle learning techniques are populer in use "
   ]
  },
  {
   "cell_type": "markdown",
   "id": "e0d22523",
   "metadata": {
    "papermill": {
     "duration": 0.006991,
     "end_time": "2023-07-16T18:02:12.320740",
     "exception": false,
     "start_time": "2023-07-16T18:02:12.313749",
     "status": "completed"
    },
    "tags": []
   },
   "source": []
  }
 ],
 "metadata": {
  "kernelspec": {
   "display_name": "Python 3",
   "language": "python",
   "name": "python3"
  },
  "language_info": {
   "codemirror_mode": {
    "name": "ipython",
    "version": 3
   },
   "file_extension": ".py",
   "mimetype": "text/x-python",
   "name": "python",
   "nbconvert_exporter": "python",
   "pygments_lexer": "ipython3",
   "version": "3.10.12"
  },
  "papermill": {
   "default_parameters": {},
   "duration": 13.094809,
   "end_time": "2023-07-16T18:02:14.947012",
   "environment_variables": {},
   "exception": null,
   "input_path": "__notebook__.ipynb",
   "output_path": "__notebook__.ipynb",
   "parameters": {},
   "start_time": "2023-07-16T18:02:01.852203",
   "version": "2.4.0"
  }
 },
 "nbformat": 4,
 "nbformat_minor": 5
}
